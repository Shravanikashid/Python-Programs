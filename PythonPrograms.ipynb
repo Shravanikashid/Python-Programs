{
 "cells": [
  {
   "cell_type": "code",
   "execution_count": 1,
   "id": "2789ee52-88be-4b10-9cba-ba6532a06fd1",
   "metadata": {},
   "outputs": [
    {
     "name": "stdin",
     "output_type": "stream",
     "text": [
      "Enter the starting number of the range:  1\n",
      "Enter the ending number of the range:  100\n"
     ]
    },
    {
     "name": "stdout",
     "output_type": "stream",
     "text": [
      "Numbers divisible by 7 but not multiples of 5 in the range:\n",
      "[7, 14, 21, 28, 42, 49, 56, 63, 77, 84, 91, 98]\n"
     ]
    }
   ],
   "source": [
    "# Define the range\n",
    "start = int(input(\"Enter the starting number of the range: \"))\n",
    "end = int(input(\"Enter the ending number of the range: \"))\n",
    "\n",
    "# List to store the results\n",
    "results = []\n",
    "\n",
    "# Loop through the range\n",
    "for num in range(start, end + 1):\n",
    "    if num % 7 == 0 and num % 5 != 0:\n",
    "        results.append(num)\n",
    "\n",
    "# Print the results\n",
    "print(\"Numbers divisible by 7 but not multiples of 5 in the range:\")\n",
    "print(results)\n"
   ]
  },
  {
   "cell_type": "code",
   "execution_count": 2,
   "id": "09ce09a6-c1f4-438c-a0cb-519db06c4825",
   "metadata": {},
   "outputs": [
    {
     "name": "stdin",
     "output_type": "stream",
     "text": [
      "Enter a sequence of whitespace-separated words:  orange banana grapes orange papaya banana\n"
     ]
    },
    {
     "name": "stdout",
     "output_type": "stream",
     "text": [
      "Words after removing duplicates and sorting:\n",
      "banana grapes orange papaya\n"
     ]
    }
   ],
   "source": [
    "# Accept a sequence of whitespace-separated words as input\n",
    "input_words = input(\"Enter a sequence of whitespace-separated words: \")\n",
    "\n",
    "# Split the input into a list of words\n",
    "words = input_words.split()\n",
    "\n",
    "# Remove duplicates by converting the list to a set, then sort the words alphanumerically\n",
    "unique_sorted_words = sorted(set(words))\n",
    "\n",
    "# Join the sorted words back into a single string\n",
    "output = \" \".join(unique_sorted_words)\n",
    "\n",
    "# Print the result\n",
    "print(\"Words after removing duplicates and sorting:\")\n",
    "print(output)\n"
   ]
  },
  {
   "cell_type": "code",
   "execution_count": 3,
   "id": "4bd0b6c8-b752-4587-96a4-6bfebf1361a2",
   "metadata": {},
   "outputs": [
    {
     "name": "stdin",
     "output_type": "stream",
     "text": [
      "Enter a string to reverse:  ShravaniKashid\n"
     ]
    },
    {
     "name": "stdout",
     "output_type": "stream",
     "text": [
      "Reversed string:\n",
      "dihsaKinavarhS\n"
     ]
    }
   ],
   "source": [
    "# Function to reverse a string\n",
    "def reverse_string(s):\n",
    "    reversed_str = \"\"\n",
    "    for char in s:\n",
    "        reversed_str = char + reversed_str  # Add each character to the front of the reversed string\n",
    "    return reversed_str\n",
    "\n",
    "# Input string from user\n",
    "input_string = input(\"Enter a string to reverse: \")\n",
    "\n",
    "# Reverse the string\n",
    "reversed_string = reverse_string(input_string)\n",
    "\n",
    "# Print the reversed string\n",
    "print(\"Reversed string:\")\n",
    "print(reversed_string)\n"
   ]
  },
  {
   "cell_type": "code",
   "execution_count": 4,
   "id": "51ea5ccc-c72d-4665-bafa-3308b8b5d2a8",
   "metadata": {},
   "outputs": [
    {
     "name": "stdout",
     "output_type": "stream",
     "text": [
      "Original list: [1, 2, 3, 4]\n",
      "Rotated list: [4, 1, 2, 3]\n"
     ]
    }
   ],
   "source": [
    "# Function to rotate a list\n",
    "def rotate_list(lst):\n",
    "    if not lst:  # Check if the list is empty\n",
    "        return lst\n",
    "    last_element = lst[-1]  # Get the last element\n",
    "    rotated_list = [last_element] + lst[:-1]  # Add the last element to the front\n",
    "    return rotated_list\n",
    "\n",
    "# Input list\n",
    "input_list = [1, 2, 3, 4]\n",
    "\n",
    "# Rotate the list\n",
    "rotated = rotate_list(input_list)\n",
    "\n",
    "# Print the result\n",
    "print(\"Original list:\", input_list)\n",
    "print(\"Rotated list:\", rotated)\n"
   ]
  },
  {
   "cell_type": "code",
   "execution_count": 5,
   "id": "82886265-b2c5-47d1-b6bc-63db6add481c",
   "metadata": {},
   "outputs": [
    {
     "name": "stdout",
     "output_type": "stream",
     "text": [
      "Merged dictionary: {'a': 10, 'b': 35, 'c': 55, 'd': 40}\n"
     ]
    }
   ],
   "source": [
    "# Function to merge two dictionaries and sum the values of common keys\n",
    "def merge_dicts(dict1, dict2):\n",
    "    merged_dict = dict1.copy()  # Start with a copy of the first dictionary\n",
    "    for key, value in dict2.items():\n",
    "        if key in merged_dict:\n",
    "            merged_dict[key] += value  # Add the values for common keys\n",
    "        else:\n",
    "            merged_dict[key] = value  # Add the key-value pair if not already present\n",
    "    return merged_dict\n",
    "\n",
    "# Example dictionaries\n",
    "dict1 = {'a': 10, 'b': 20, 'c': 30}\n",
    "dict2 = {'b': 15, 'c': 25, 'd': 40}\n",
    "\n",
    "# Merge the dictionaries\n",
    "merged = merge_dicts(dict1, dict2)\n",
    "\n",
    "# Print the result\n",
    "print(\"Merged dictionary:\", merged)\n"
   ]
  },
  {
   "cell_type": "code",
   "execution_count": 6,
   "id": "79f1def1-27ae-49d8-a047-dd3cd16e4a58",
   "metadata": {},
   "outputs": [
    {
     "name": "stdin",
     "output_type": "stream",
     "text": [
      "Enter the number of terms:  10\n"
     ]
    },
    {
     "name": "stdout",
     "output_type": "stream",
     "text": [
      "Fibonacci sequence up to 10 terms:\n",
      "[0, 1, 1, 2, 3, 5, 8, 13, 21, 34]\n"
     ]
    }
   ],
   "source": [
    "# Function to generate the Fibonacci sequence\n",
    "def fibonacci_sequence(n):\n",
    "    if n <= 0:\n",
    "        return []  # Return an empty list for non-positive terms\n",
    "    elif n == 1:\n",
    "        return [0]  # Return [0] for 1 term\n",
    "    elif n == 2:\n",
    "        return [0, 1]  # Return [0, 1] for 2 terms\n",
    "    \n",
    "    sequence = [0, 1]  # Start with the first two terms\n",
    "    for i in range(2, n):\n",
    "        next_term = sequence[-1] + sequence[-2]  # Sum of the last two terms\n",
    "        sequence.append(next_term)\n",
    "    return sequence\n",
    "\n",
    "# Input: number of terms\n",
    "n_terms = int(input(\"Enter the number of terms: \"))\n",
    "\n",
    "# Generate the Fibonacci sequence\n",
    "result = fibonacci_sequence(n_terms)\n",
    "\n",
    "# Print the result\n",
    "print(f\"Fibonacci sequence up to {n_terms} terms:\")\n",
    "print(result)\n"
   ]
  },
  {
   "cell_type": "code",
   "execution_count": 10,
   "id": "c7887ce2-75da-4494-9a46-aba618f52de4",
   "metadata": {},
   "outputs": [
    {
     "name": "stdin",
     "output_type": "stream",
     "text": [
      "Enter a number:  100\n"
     ]
    },
    {
     "name": "stdout",
     "output_type": "stream",
     "text": [
      "The number of trailing zeros in 100! is: 24\n"
     ]
    }
   ],
   "source": [
    "# Function to count trailing zeros in a factorial\n",
    "def count_trailing_zeros_in_factorial(n):\n",
    "    count = 0\n",
    "    # Count the number of times 5 is a factor in the numbers from 1 to n\n",
    "    while n >= 5:\n",
    "        n //= 5\n",
    "        count += n\n",
    "    return count\n",
    "\n",
    "# Input: Number to calculate factorial trailing zeros for\n",
    "number = int(input(\"Enter a number: \"))\n",
    "\n",
    "# Calculate trailing zeros in the factorial\n",
    "trailing_zeros = count_trailing_zeros_in_factorial(number)\n",
    "\n",
    "# Print the result\n",
    "print(f\"The number of trailing zeros in {number}! is: {trailing_zeros}\")\n"
   ]
  },
  {
   "cell_type": "code",
   "execution_count": 11,
   "id": "f7435a57-dc7b-4287-a83d-99b4ff6a0f03",
   "metadata": {},
   "outputs": [
    {
     "name": "stdin",
     "output_type": "stream",
     "text": [
      "Enter the number of rows:  5\n"
     ]
    },
    {
     "name": "stdout",
     "output_type": "stream",
     "text": [
      "    *\n",
      "   ***\n",
      "  *****\n",
      " *******\n",
      "*********\n"
     ]
    }
   ],
   "source": [
    "# Input: Number of rows for the pyramid\n",
    "rows = int(input(\"Enter the number of rows: \"))\n",
    "\n",
    "# Loop to print the pyramid\n",
    "for i in range(1, rows + 1):\n",
    "    # Print spaces for alignment\n",
    "    for j in range(rows - i):\n",
    "        print(\" \", end=\"\")\n",
    "    # Print stars for the pyramid\n",
    "    for k in range(2 * i - 1):\n",
    "        print(\"*\", end=\"\")\n",
    "    # Move to the next line\n",
    "    print()\n"
   ]
  },
  {
   "cell_type": "code",
   "execution_count": 1,
   "id": "bba8bdbf-c10e-43b8-b309-8486ebeaf72c",
   "metadata": {},
   "outputs": [
    {
     "name": "stdout",
     "output_type": "stream",
     "text": [
      "Top 3 most common elements:\n",
      "Element: 8, Count: 5\n",
      "Element: 1, Count: 5\n",
      "Element: 4, Count: 4\n"
     ]
    }
   ],
   "source": [
    "from collections import Counter\n",
    "\n",
    "# Input list\n",
    "data = [4, 2, 2, 8, 3, 3, 3, 4, 4, 4, 8, 8, 8, 8, 1, 1, 1, 1, 1]\n",
    "\n",
    "# Count occurrences using a dictionary\n",
    "frequency = {}\n",
    "for item in data:\n",
    "    frequency[item] = frequency.get(item, 0) + 1\n",
    "\n",
    "# Find the top 3 most common elements\n",
    "top_3 = sorted(frequency.items(), key=lambda x: x[1], reverse=True)[:3]\n",
    "\n",
    "# Output\n",
    "print(\"Top 3 most common elements:\")\n",
    "for element, count in top_3:\n",
    "    print(f\"Element: {element}, Count: {count}\")\n"
   ]
  },
  {
   "cell_type": "code",
   "execution_count": 2,
   "id": "e9e65a05-0d06-4243-883f-a0aaf3953576",
   "metadata": {},
   "outputs": [
    {
     "name": "stdout",
     "output_type": "stream",
     "text": [
      "The GCD of 56 and 98 is: 14\n"
     ]
    }
   ],
   "source": [
    "def gcd(a, b):\n",
    "    # Base case: if b is 0, the GCD is a\n",
    "    if b == 0:\n",
    "        return a\n",
    "    # Recursive case: call gcd with b and a % b\n",
    "    return gcd(b, a % b)\n",
    "\n",
    "# Example usage\n",
    "num1 = 56\n",
    "num2 = 98\n",
    "result = gcd(num1, num2)\n",
    "print(f\"The GCD of {num1} and {num2} is: {result}\")\n"
   ]
  },
  {
   "cell_type": "code",
   "execution_count": null,
   "id": "f00b6a1e-71b4-4ec5-9ac9-79c74d1ecead",
   "metadata": {},
   "outputs": [],
   "source": []
  }
 ],
 "metadata": {
  "kernelspec": {
   "display_name": "Python 3 (ipykernel)",
   "language": "python",
   "name": "python3"
  },
  "language_info": {
   "codemirror_mode": {
    "name": "ipython",
    "version": 3
   },
   "file_extension": ".py",
   "mimetype": "text/x-python",
   "name": "python",
   "nbconvert_exporter": "python",
   "pygments_lexer": "ipython3",
   "version": "3.12.6"
  }
 },
 "nbformat": 4,
 "nbformat_minor": 5
}
